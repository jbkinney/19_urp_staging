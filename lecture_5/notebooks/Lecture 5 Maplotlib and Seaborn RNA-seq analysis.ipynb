{
 "cells": [
  {
   "cell_type": "markdown",
   "metadata": {
    "toc": true
   },
   "source": [
    "<h1>Table of Contents<span class=\"tocSkip\"></span></h1>\n",
    "<div class=\"toc\"><ul class=\"toc-item\"><li><span><a href=\"#Learning-Goals\" data-toc-modified-id=\"Learning-Goals-1\"><span class=\"toc-item-num\">1&nbsp;&nbsp;</span>Learning Goals</a></span></li><li><span><a href=\"#Background/Lecture\" data-toc-modified-id=\"Background/Lecture-2\"><span class=\"toc-item-num\">2&nbsp;&nbsp;</span>Background/Lecture</a></span><ul class=\"toc-item\"><li><span><a href=\"#Quick-Introduction-to-the-biology-in-this-lecture\" data-toc-modified-id=\"Quick-Introduction-to-the-biology-in-this-lecture-2.1\"><span class=\"toc-item-num\">2.1&nbsp;&nbsp;</span>Quick Introduction to the biology in this lecture</a></span><ul class=\"toc-item\"><li><span><a href=\"#Some-terms-I-use-in-the-data\" data-toc-modified-id=\"Some-terms-I-use-in-the-data-2.1.1\"><span class=\"toc-item-num\">2.1.1&nbsp;&nbsp;</span>Some terms I use in the data</a></span></li></ul></li><li><span><a href=\"#Reading-and-processing-Columnar/Rectangular-Data\" data-toc-modified-id=\"Reading-and-processing-Columnar/Rectangular-Data-2.2\"><span class=\"toc-item-num\">2.2&nbsp;&nbsp;</span>Reading and processing Columnar/Rectangular Data</a></span><ul class=\"toc-item\"><li><span><a href=\"#Flat-Files\" data-toc-modified-id=\"Flat-Files-2.2.1\"><span class=\"toc-item-num\">2.2.1&nbsp;&nbsp;</span>Flat Files</a></span></li><li><span><a href=\"#Non-flat/binary\" data-toc-modified-id=\"Non-flat/binary-2.2.2\"><span class=\"toc-item-num\">2.2.2&nbsp;&nbsp;</span>Non-flat/binary</a></span><ul class=\"toc-item\"><li><span><a href=\"#Examples\" data-toc-modified-id=\"Examples-2.2.2.1\"><span class=\"toc-item-num\">2.2.2.1&nbsp;&nbsp;</span>Examples</a></span></li></ul></li><li><span><a href=\"#Tidy-data\" data-toc-modified-id=\"Tidy-data-2.2.3\"><span class=\"toc-item-num\">2.2.3&nbsp;&nbsp;</span>Tidy data</a></span></li><li><span><a href=\"#Review-Questions-and-Mini-Exercises\" data-toc-modified-id=\"Review-Questions-and-Mini-Exercises-2.2.4\"><span class=\"toc-item-num\">2.2.4&nbsp;&nbsp;</span>Review Questions and Mini Exercises</a></span></li></ul></li><li><span><a href=\"#Processing-data\" data-toc-modified-id=\"Processing-data-2.3\"><span class=\"toc-item-num\">2.3&nbsp;&nbsp;</span>Processing data</a></span><ul class=\"toc-item\"><li><span><a href=\"#Groupings-need-to-be-listed-as-a-column\" data-toc-modified-id=\"Groupings-need-to-be-listed-as-a-column-2.3.1\"><span class=\"toc-item-num\">2.3.1&nbsp;&nbsp;</span>Groupings need to be listed as a column</a></span></li><li><span><a href=\"#pd.melt()\" data-toc-modified-id=\"pd.melt()-2.3.2\"><span class=\"toc-item-num\">2.3.2&nbsp;&nbsp;</span>pd.melt()</a></span></li><li><span><a href=\"#pd.concat()\" data-toc-modified-id=\"pd.concat()-2.3.3\"><span class=\"toc-item-num\">2.3.3&nbsp;&nbsp;</span>pd.concat()</a></span></li><li><span><a href=\"#Computations-on-existing-columns-to-create-new-ones\" data-toc-modified-id=\"Computations-on-existing-columns-to-create-new-ones-2.3.4\"><span class=\"toc-item-num\">2.3.4&nbsp;&nbsp;</span>Computations on existing columns to create new ones</a></span></li><li><span><a href=\"#Review-questions-and-mini-exercises\" data-toc-modified-id=\"Review-questions-and-mini-exercises-2.3.5\"><span class=\"toc-item-num\">2.3.5&nbsp;&nbsp;</span>Review questions and mini exercises</a></span></li></ul></li><li><span><a href=\"#Principles-of-Plotting-in-Python\" data-toc-modified-id=\"Principles-of-Plotting-in-Python-2.4\"><span class=\"toc-item-num\">2.4&nbsp;&nbsp;</span>Principles of Plotting in Python</a></span><ul class=\"toc-item\"><li><span><a href=\"#The-anatomy-of-a-plot/figure\" data-toc-modified-id=\"The-anatomy-of-a-plot/figure-2.4.1\"><span class=\"toc-item-num\">2.4.1&nbsp;&nbsp;</span>The anatomy of a plot/figure</a></span></li><li><span><a href=\"#Python-plot-gallery\" data-toc-modified-id=\"Python-plot-gallery-2.4.2\"><span class=\"toc-item-num\">2.4.2&nbsp;&nbsp;</span>Python plot gallery</a></span></li><li><span><a href=\"#Initializing-a-figure\" data-toc-modified-id=\"Initializing-a-figure-2.4.3\"><span class=\"toc-item-num\">2.4.3&nbsp;&nbsp;</span>Initializing a figure</a></span></li></ul></li><li><span><a href=\"#Python-plot-gallery\" data-toc-modified-id=\"Python-plot-gallery-2.5\"><span class=\"toc-item-num\">2.5&nbsp;&nbsp;</span>Python plot gallery</a></span><ul class=\"toc-item\"><li><span><a href=\"#General-Aesthetics\" data-toc-modified-id=\"General-Aesthetics-2.5.1\"><span class=\"toc-item-num\">2.5.1&nbsp;&nbsp;</span>General Aesthetics</a></span></li><li><span><a href=\"#Color\" data-toc-modified-id=\"Color-2.5.2\"><span class=\"toc-item-num\">2.5.2&nbsp;&nbsp;</span>Color</a></span></li><li><span><a href=\"#Everything-needs-to-be-in-columns\" data-toc-modified-id=\"Everything-needs-to-be-in-columns-2.5.3\"><span class=\"toc-item-num\">2.5.3&nbsp;&nbsp;</span>Everything needs to be in columns</a></span></li><li><span><a href=\"#Univariate/Categorical-Plotting\" data-toc-modified-id=\"Univariate/Categorical-Plotting-2.5.4\"><span class=\"toc-item-num\">2.5.4&nbsp;&nbsp;</span>Univariate/Categorical Plotting</a></span></li><li><span><a href=\"#Multivariate-plotting\" data-toc-modified-id=\"Multivariate-plotting-2.5.5\"><span class=\"toc-item-num\">2.5.5&nbsp;&nbsp;</span>Multivariate plotting</a></span></li></ul></li></ul></li><li><span><a href=\"#Exercise\" data-toc-modified-id=\"Exercise-3\"><span class=\"toc-item-num\">3&nbsp;&nbsp;</span>Exercise</a></span><ul class=\"toc-item\"><li><span><a href=\"#Read-in-and-preprocess-the-data\" data-toc-modified-id=\"Read-in-and-preprocess-the-data-3.1\"><span class=\"toc-item-num\">3.1&nbsp;&nbsp;</span>Read in and preprocess the data</a></span></li><li><span><a href=\"#Calculating-Mann-Whitney-U-test-statistic:\" data-toc-modified-id=\"Calculating-Mann-Whitney-U-test-statistic:-3.2\"><span class=\"toc-item-num\">3.2&nbsp;&nbsp;</span>Calculating Mann Whitney U test statistic:</a></span></li><li><span><a href=\"#Calculating-AUROC-from-MannWhitney-U:\" data-toc-modified-id=\"Calculating-AUROC-from-MannWhitney-U:-3.3\"><span class=\"toc-item-num\">3.3&nbsp;&nbsp;</span>Calculating AUROC from MannWhitney U:</a></span></li><li><span><a href=\"#Calculate-Log2FC\" data-toc-modified-id=\"Calculate-Log2FC-3.4\"><span class=\"toc-item-num\">3.4&nbsp;&nbsp;</span>Calculate Log2FC</a></span></li><li><span><a href=\"#Create-Volcano-Plots\" data-toc-modified-id=\"Create-Volcano-Plots-3.5\"><span class=\"toc-item-num\">3.5&nbsp;&nbsp;</span>Create Volcano Plots</a></span></li><li><span><a href=\"#Calculating-P-values-(Optional):\" data-toc-modified-id=\"Calculating-P-values-(Optional):-3.6\"><span class=\"toc-item-num\">3.6&nbsp;&nbsp;</span>Calculating P values (Optional):</a></span></li><li><span><a href=\"#What-if-we-could-have-predicted-this-result?\" data-toc-modified-id=\"What-if-we-could-have-predicted-this-result?-3.7\"><span class=\"toc-item-num\">3.7&nbsp;&nbsp;</span>What if we could have predicted this result?</a></span></li></ul></li><li><span><a href=\"#Extra-Resources\" data-toc-modified-id=\"Extra-Resources-4\"><span class=\"toc-item-num\">4&nbsp;&nbsp;</span>Extra Resources</a></span><ul class=\"toc-item\"><li><span><a href=\"#SQL-and-databases\" data-toc-modified-id=\"SQL-and-databases-4.1\"><span class=\"toc-item-num\">4.1&nbsp;&nbsp;</span>SQL and databases</a></span></li><li><span><a href=\"#Some-weird-&quot;common-file-formats&quot;\" data-toc-modified-id=\"Some-weird-&quot;common-file-formats&quot;-4.2\"><span class=\"toc-item-num\">4.2&nbsp;&nbsp;</span>Some weird \"common file formats\"</a></span></li><li><span><a href=\"#Edward-Tufte\" data-toc-modified-id=\"Edward-Tufte-4.3\"><span class=\"toc-item-num\">4.3&nbsp;&nbsp;</span>Edward Tufte</a></span></li><li><span><a href=\"#Advanced-python-libraries\" data-toc-modified-id=\"Advanced-python-libraries-4.4\"><span class=\"toc-item-num\">4.4&nbsp;&nbsp;</span>Advanced python libraries</a></span><ul class=\"toc-item\"><li><span><a href=\"#Bokeh\" data-toc-modified-id=\"Bokeh-4.4.1\"><span class=\"toc-item-num\">4.4.1&nbsp;&nbsp;</span>Bokeh</a></span></li><li><span><a href=\"#Plotly\" data-toc-modified-id=\"Plotly-4.4.2\"><span class=\"toc-item-num\">4.4.2&nbsp;&nbsp;</span>Plotly</a></span></li></ul></li><li><span><a href=\"#Non-Python-Plotting-Resources\" data-toc-modified-id=\"Non-Python-Plotting-Resources-4.5\"><span class=\"toc-item-num\">4.5&nbsp;&nbsp;</span>Non Python Plotting Resources</a></span></li></ul></li></ul></div>"
   ]
  },
  {
   "cell_type": "markdown",
   "metadata": {},
   "source": [
    "# Imports"
   ]
  },
  {
   "cell_type": "code",
   "execution_count": null,
   "metadata": {
    "ExecuteTime": {
     "end_time": "2019-06-11T02:18:28.230158Z",
     "start_time": "2019-06-11T02:18:28.222075Z"
    }
   },
   "outputs": [],
   "source": [
    "#Two Plotting Libraries\n",
    "import matplotlib.pyplot as plt\n",
    "import seaborn as sns\n",
    "\n",
    "\n",
    "#Mathematical libraries\n",
    "import numpy as np\n",
    "import scipy.stats as stats\n",
    "import statsmodels.api as sm\n",
    "import scipy as sp\n",
    "import pandas as pd\n",
    "\n",
    "%matplotlib inline"
   ]
  },
  {
   "cell_type": "markdown",
   "metadata": {},
   "source": [
    "## Learning Goals"
   ]
  },
  {
   "cell_type": "markdown",
   "metadata": {},
   "source": [
    "1. Reading in data and principles of Tidy Data\n",
    "2. Processing data to prepare for plotting\n",
    "3. Principles of plotting\n",
    "    1. Colors\n",
    "    2. Showing distributions faithfully\n",
    "    3. Scaling for the medium of communication\n",
    "4. Matplotlib/Seaborn Grammar\n",
    "5. Some plotting exercises\n",
    "\n",
    "\n",
    "Some of this might be review, but in bioinformatics/data analysis data processing and plotting/communicating are the first and last steps of coding a data-anlysis pipeline. \n",
    "\n",
    "<img src=\"https://qph.fs.quoracdn.net/main-qimg-e7fd43c8c36487389f7bf4f19c52ac2d\" />\n",
    "\n",
    "You will be doing plotting in every step of the data analysis pipeline, so getting comfortable with plotting is crucial\n",
    "\n",
    "Justin's lecture's about statistics have already covered some of the explore and model part of an analysis, and most of the rest of the lectures will be focusing on a few different examples of those. "
   ]
  },
  {
   "cell_type": "markdown",
   "metadata": {},
   "source": [
    "## Background/Lecture"
   ]
  },
  {
   "cell_type": "markdown",
   "metadata": {},
   "source": [
    "### Quick Introduction to the biology in this lecture"
   ]
  },
  {
   "cell_type": "markdown",
   "metadata": {},
   "source": [
    "Most of the data in this lecture comes from single cell RNA sequencing (scRNAseq). scRNAseq is a relatively new, but rapidly growing technology for assaying 100s or 1000s and even occasionally millions of individual cells' transcriptomes. \n",
    "\n",
    "\n",
    "In short, cells can be separated and barcoded using random DNA sequences before sequencing like normal RNAseq in a variety of different ways. Each method has it's tradeoff. But one constant trait of all the data is sparsity. There are lots of 0s in the data because you are getting a very incomplete sampling of the transcriptome. Yet the method can be extremely useful in studying cell type diversity.\n",
    "\n",
    "<img src=\"https://media.nature.com/m685/nature-assets/nprot/journal/v13/n4/images/nprot.2017.149-F1.jpg\" />\n",
    "(Svensson et al 2017)\n",
    "\n",
    "\n",
    "The data I am including is all from the mouse motor cortex\n",
    "\n",
    "<img src=\"https://encrypted-tbn0.gstatic.com/images?q=tbn:ANd9GcQcdINthsxaWhyKIu3qG07_G-ltSLmptR4ZFoGqs1GEVdz1SDbs\" />\n",
    "\n",
    "The data was generated to specifically look at neuron diversity. There are two main types for neurons, **excitatory**, also known as glutamatergic , and **inhibitory**, also known as GABAergic. The excitatory cell types are named by the layers in the brain they are located in, while the inhibitory ones are named by gene markers.\n",
    "\n",
    "<img src=\"http://retina.umh.es/webvision/imageswv/BasicCells.jpg\" />\n",
    "\n",
    "A major focus in studying these cell types is learning how they develop and differentiate from each other. In the case of excitatory cells they develop in the column they will exist in and move from the deeper to shallower layers. For inhibitory cells they develop in another part of the brain, known as the Ganglionic Eminence, and migrate to the cortex. The first major split in defining interneurons is whether they originated in the Medial Ganglionic Eminence (MGE) or the Caudal Ganglionic Eminence (CGE).\n",
    "\n",
    "<img src=\"https://www.researchgate.net/publication/321972539/figure/fig1/AS:573998834880512@1513863394719/Migratory-streams-originating-from-the-caudal-ganglionic-eminence-CGE-during-mouse.png\" />\n",
    "\n",
    "\n",
    "#### Some terms I use in the data \n",
    "\n",
    "Centroid : The average expression of a cell type. Instead of representing a cell type as all of the cells individually I represent cells as centroids sometimes, where I merely take the average expression of each gene for every cell type\n",
    "\n"
   ]
  },
  {
   "cell_type": "markdown",
   "metadata": {},
   "source": [
    "### Reading and processing Columnar/Rectangular Data\n",
    "\n",
    "#### Flat Files\n",
    "\n",
    "Flat files can be opened and viewed in any text editor or excel or in the command line. Larger files will give Excel, text editors and your computer issues, so sometimes command line tools are necessary. \n",
    "\n",
    "Can be directly viewed in the command line:\n",
    "\n",
    "Print out entire file:\n",
    ">$ cat file1.txt \n",
    "\n",
    "Print out the top 10 lines:\n",
    ">$ head file1.txt\n",
    "\n",
    "Print out the top x lines:\n",
    ">$ head -n x file1.txt\n",
    "\n",
    "Print out but allow for scrolling back through output (To escape press q)\n",
    ">$ less file1.txt\n",
    "\n",
    "\n",
    "\n",
    "\n",
    "The most common file formats are .txt (text file), .tsv (tab separated value), and .csv (comma separated value)\n",
    "\n",
    "Columnar data always has a something encoded in the file to separate each column. Depending on the tool you are using to read in the data it can be called different things but the most common names are:\n",
    "\n",
    "* delimiter (delim)\n",
    "* separator (sep)\n",
    "* IFS \n",
    "\n",
    "The most common separators are:\n",
    "\n",
    "* '\\t' (tab)\n",
    "* ',' (comma)\n",
    "* ' ' (space)\n",
    "* '\\n' (newline)\n",
    "\n",
    "\n",
    "If you are unsure of what the separator is you can use a head to print out the top of the file \n",
    "\n",
    "When reading in these files to python the most common/best functions we use are from numpy and pandas\n",
    "\n",
    "\n",
    "* np.genfromtxt()\n",
    "* pd.read_csv() \n",
    "\n",
    "> If you google ways to read in text files into python you will find many more ways to read in flat files, but these two functions are the most automated.\n",
    "\n",
    "I will discuss a few examples of when to use which function after I give a little more info about files.\n",
    "\n"
   ]
  },
  {
   "cell_type": "markdown",
   "metadata": {
    "ExecuteTime": {
     "end_time": "2019-05-13T21:31:18.459145Z",
     "start_time": "2019-05-13T21:31:18.455178Z"
    }
   },
   "source": [
    "#### Non-flat/binary\n",
    "1. .xlxs (Excel File Format) pd.read_excel\n",
    "2. .h5/.h5f5 (Hierarchical Data Format) pd.read_hdf() or h5py\n",
    "    1. Often used for big data\n",
    "    2. Integrated file structure for storing multiple tables of data together (both expression and metadata)\n"
   ]
  },
  {
   "cell_type": "markdown",
   "metadata": {},
   "source": [
    "##### Examples\n",
    "**Your computer doesn't actually care about file extensions, so it isn't uncommon to see a file with a different extension that is really just a flat file** \n",
    "\n",
    "All the files below have 100 rows of 10 random numbers"
   ]
  },
  {
   "cell_type": "code",
   "execution_count": null,
   "metadata": {
    "ExecuteTime": {
     "end_time": "2019-05-13T21:51:27.647766Z",
     "start_time": "2019-05-13T21:51:27.528793Z"
    },
    "scrolled": true
   },
   "outputs": [],
   "source": [
    "!head -n 1 ../data/file1.txt"
   ]
  },
  {
   "cell_type": "code",
   "execution_count": null,
   "metadata": {
    "ExecuteTime": {
     "end_time": "2019-05-13T21:51:39.156094Z",
     "start_time": "2019-05-13T21:51:39.036742Z"
    }
   },
   "outputs": [],
   "source": [
    "!head -n 1 ../data/file2.txt"
   ]
  },
  {
   "cell_type": "code",
   "execution_count": null,
   "metadata": {
    "ExecuteTime": {
     "end_time": "2019-05-13T22:04:46.672766Z",
     "start_time": "2019-05-13T22:04:46.551628Z"
    }
   },
   "outputs": [],
   "source": [
    "!head -n 1 ../data/file2.csv"
   ]
  },
  {
   "cell_type": "markdown",
   "metadata": {},
   "source": [
    "The above output the filename is .csv but the file is tab separated"
   ]
  },
  {
   "cell_type": "markdown",
   "metadata": {},
   "source": [
    "**The computer reads in your data 1 row at a time, and will interpret a lot about the data based on the first row**"
   ]
  },
  {
   "cell_type": "code",
   "execution_count": null,
   "metadata": {
    "ExecuteTime": {
     "end_time": "2019-05-13T21:52:09.050233Z",
     "start_time": "2019-05-13T21:52:08.932733Z"
    },
    "scrolled": true
   },
   "outputs": [],
   "source": [
    "!head -n 1 ../data/file3.csv"
   ]
  },
  {
   "cell_type": "markdown",
   "metadata": {},
   "source": [
    "With rectangular data that we are generally working with sometimes there is missing data. As you can see in this modified version of file3.csv there are two commas in a row and only 9 numbers. "
   ]
  },
  {
   "cell_type": "code",
   "execution_count": null,
   "metadata": {
    "ExecuteTime": {
     "end_time": "2019-05-13T22:01:21.674374Z",
     "start_time": "2019-05-13T22:01:21.554329Z"
    }
   },
   "outputs": [],
   "source": [
    "!head -n 2 ../data/file3_1.csv"
   ]
  },
  {
   "cell_type": "code",
   "execution_count": null,
   "metadata": {
    "ExecuteTime": {
     "end_time": "2019-05-13T22:01:12.638961Z",
     "start_time": "2019-05-13T22:01:12.633423Z"
    }
   },
   "outputs": [],
   "source": [
    "np.genfromtxt('../data/file3_1.csv',delimiter=',')[:2,:]"
   ]
  },
  {
   "cell_type": "markdown",
   "metadata": {},
   "source": [
    "You can see that numpy has replaced that value with a nan. And still interprets the file as having 10 elements in each row"
   ]
  },
  {
   "cell_type": "code",
   "execution_count": null,
   "metadata": {
    "ExecuteTime": {
     "end_time": "2019-05-13T22:09:52.582133Z",
     "start_time": "2019-05-13T22:09:52.567667Z"
    }
   },
   "outputs": [],
   "source": [
    "np.genfromtxt('../data/file3_2.csv',delimiter=',')[:2,:]"
   ]
  },
  {
   "cell_type": "markdown",
   "metadata": {},
   "source": [
    "If I remove the second comma numpy will throw an error when I read in the data"
   ]
  },
  {
   "cell_type": "code",
   "execution_count": null,
   "metadata": {
    "ExecuteTime": {
     "end_time": "2019-05-14T12:27:29.601661Z",
     "start_time": "2019-05-14T12:27:29.594592Z"
    }
   },
   "outputs": [],
   "source": [
    "np.genfromtxt('../data/file3_2.csv',delimiter=',', skip_header=1)[:2,:]"
   ]
  },
  {
   "cell_type": "markdown",
   "metadata": {},
   "source": [
    "But if I skip the first row it the file will be read in, just will be 1 row shorter "
   ]
  },
  {
   "cell_type": "markdown",
   "metadata": {},
   "source": [
    "All of the examples I have shown so far has been instances where all of the data is numbers, but we often work with both numerical and categorical data. Numpy does not allow for multiple data types in a single array. \n",
    "\n",
    "Numpy defaults to reading in data as a numerical value."
   ]
  },
  {
   "cell_type": "code",
   "execution_count": null,
   "metadata": {
    "ExecuteTime": {
     "end_time": "2019-06-12T18:39:13.723057Z",
     "start_time": "2019-06-12T18:39:13.705479Z"
    },
    "scrolled": true
   },
   "outputs": [],
   "source": [
    "np.genfromtxt('../data/iris_1.csv',delimiter=',')"
   ]
  },
  {
   "cell_type": "markdown",
   "metadata": {},
   "source": [
    "If you tell numpy that you have string data (str) then it will make the entire array strings"
   ]
  },
  {
   "cell_type": "code",
   "execution_count": null,
   "metadata": {
    "ExecuteTime": {
     "end_time": "2019-06-12T18:39:25.201506Z",
     "start_time": "2019-06-12T18:39:25.193981Z"
    }
   },
   "outputs": [],
   "source": [
    "np.genfromtxt('../data/iris_1.csv',delimiter=',',dtype=str)"
   ]
  },
  {
   "cell_type": "markdown",
   "metadata": {},
   "source": [
    "Instead of using numpy to read in the data you can use pandas dataframe"
   ]
  },
  {
   "cell_type": "code",
   "execution_count": null,
   "metadata": {
    "ExecuteTime": {
     "end_time": "2019-05-14T23:13:25.414718Z",
     "start_time": "2019-05-14T23:13:25.401733Z"
    },
    "scrolled": true
   },
   "outputs": [],
   "source": [
    "pd.read_csv('../data/iris_1.csv').head()"
   ]
  },
  {
   "cell_type": "markdown",
   "metadata": {},
   "source": [
    "Pandas creates, what are called dataframes when you read in data. They have 3 main components. An index (the rownames), columns (column names) and values (data). \n",
    "\n",
    "The default nature of read_csv() is to interpret the first row of the data as the header, and to treat every column as a part of the data. It just sets the index to [0,nrows).\n",
    "\n",
    "In the case of the data I read in above, you can see that the first row of output is bolded, but looks like data, not column names. "
   ]
  },
  {
   "cell_type": "code",
   "execution_count": null,
   "metadata": {
    "ExecuteTime": {
     "end_time": "2019-05-14T23:13:20.511778Z",
     "start_time": "2019-05-14T23:13:20.496929Z"
    },
    "scrolled": true
   },
   "outputs": [],
   "source": [
    "pd.read_csv('../data/iris_1.csv', header=None).head()"
   ]
  },
  {
   "cell_type": "markdown",
   "metadata": {},
   "source": [
    "Rather telling pandas that there is no header will read in the data correctly. Now you if you look at the first column, the one labeled 0, it has the same values as the index column. That is because this column is supposed to be the index."
   ]
  },
  {
   "cell_type": "code",
   "execution_count": null,
   "metadata": {
    "ExecuteTime": {
     "end_time": "2019-05-14T23:16:29.808101Z",
     "start_time": "2019-05-14T23:16:29.793449Z"
    }
   },
   "outputs": [],
   "source": [
    "pd.read_csv('../data/iris_1.csv', header=None, index_col=0).head()"
   ]
  },
  {
   "cell_type": "markdown",
   "metadata": {},
   "source": [
    "#### Tidy data"
   ]
  },
  {
   "cell_type": "markdown",
   "metadata": {},
   "source": [
    "Now you can see that the first column has been moved to the index location in the output.\n",
    "\n",
    "At this point you might notice and inconsistency between the way pandas is treating the index (rownames) and columns (column names). There is a specific reason for this. \n",
    "\n",
    "Pandas subscribes to a data format/philosophy known as tidy data. \n",
    "\n",
    "Jeff Leek in his book The Elements of Data Analytic Style summarizes the characteristics of tidy data as the points\n",
    "\n",
    "1. Each variable you measure should be in one column.\n",
    "2. Each different observation of that variable should be in a different row.\n",
    "3. There should be one table for each \"kind\" of variable.\n",
    "4. If you have multiple tables, they should include a column in the table that allows them to be linked.\n",
    "\n",
    "    (Tidy Data Wikipedia Article)[https://en.wikipedia.org/wiki/Tidy_data]\n",
    "    "
   ]
  },
  {
   "cell_type": "code",
   "execution_count": null,
   "metadata": {
    "ExecuteTime": {
     "end_time": "2019-05-14T23:23:20.147718Z",
     "start_time": "2019-05-14T23:23:20.133870Z"
    },
    "scrolled": true
   },
   "outputs": [],
   "source": [
    "pd.read_csv('../data/iris_2.csv', index_col=0).head()"
   ]
  },
  {
   "cell_type": "markdown",
   "metadata": {},
   "source": [
    "Above is an example of a tidy dataframe. This data is Fisher's Iris dataset, it is an extremely common dataset used for demonstrating data analysis tools. Each row, known as an **observation** in the tidy grammar, is a flower that Fischer measured. Then each column, known as a **feature** in the tidy grammar, is a measurement (quantitative or categorical) that Fisher took for that observation. \n",
    "\n",
    "https://en.wikipedia.org/wiki/Iris_flower_data_set\n",
    "\n",
    "> In bioinformatics, the notion of observation and feature can get blurred because in a dataset, like RNAseq where your datafile would be genes x samples, it depends on what you are doing in your analysis which is actually the observation and which is the feature. It depends on if you are doing gene vs gene comparisons or cells vs cells\n",
    "\n",
    "You should have already learned about some basics of subsetting data in pandas. To get full use of the plotting functionality it is best to have your data in a tidy format.\n",
    "\n",
    "But here is a quick review of all the different ways to access a column in pandas. "
   ]
  },
  {
   "cell_type": "code",
   "execution_count": null,
   "metadata": {
    "ExecuteTime": {
     "end_time": "2019-05-15T19:42:16.290946Z",
     "start_time": "2019-05-15T19:42:16.282278Z"
    }
   },
   "outputs": [],
   "source": [
    "df = pd.read_csv('../data/iris_2.csv', index_col=0)\n",
    "df['sepal_width'].head()"
   ]
  },
  {
   "cell_type": "code",
   "execution_count": null,
   "metadata": {
    "ExecuteTime": {
     "end_time": "2019-05-16T02:53:12.547153Z",
     "start_time": "2019-05-16T02:53:12.539697Z"
    }
   },
   "outputs": [],
   "source": [
    "df[['sepal_width']].head()"
   ]
  },
  {
   "cell_type": "markdown",
   "metadata": {},
   "source": [
    "In the first example I am indexing the dataframe with a string corresponding to the name of a column. In the second example I am using the same string but that string is inside another set of brackets. That makes it a list with 1 item, the string. \n",
    "\n",
    "While the data returned from both of these methods is the same, the type of object returned by these two methods is different."
   ]
  },
  {
   "cell_type": "code",
   "execution_count": null,
   "metadata": {
    "ExecuteTime": {
     "end_time": "2019-05-16T02:58:19.774643Z",
     "start_time": "2019-05-16T02:58:19.769098Z"
    }
   },
   "outputs": [],
   "source": [
    "print('Code', '\\t', 'DataType Returned')\n",
    "print(\"df['sepal_width'].head()\", '\\t', type(df['sepal_width'].head()))\n",
    "print(\"df[['sepal_width']].head()\", '\\t', type(df[['sepal_width']].head()))"
   ]
  },
  {
   "cell_type": "markdown",
   "metadata": {},
   "source": [
    "You can also subset columns using boolean arrays, however you need to add .loc. If you want a subset of rows you can use a boolean mask df[mask]. .loc allows for indexing both rows and columns, so you need to specify both otherwise you will get something different than what you wanted."
   ]
  },
  {
   "cell_type": "code",
   "execution_count": null,
   "metadata": {
    "ExecuteTime": {
     "end_time": "2019-05-16T03:07:27.126499Z",
     "start_time": "2019-05-16T03:07:27.116976Z"
    },
    "scrolled": true
   },
   "outputs": [],
   "source": [
    "column_mask = df.columns == 'sepal_width'\n",
    "print(column_mask)\n",
    "df.loc[column_mask].head()"
   ]
  },
  {
   "cell_type": "markdown",
   "metadata": {},
   "source": [
    "In this case the mask, is selecting the entire first row (the true value) and then not selecting the rest of the rows. \n",
    "\n",
    "To specify that you want all of the rows you just include a colon : in the row position"
   ]
  },
  {
   "cell_type": "code",
   "execution_count": null,
   "metadata": {
    "ExecuteTime": {
     "end_time": "2019-05-16T03:07:29.032060Z",
     "start_time": "2019-05-16T03:07:29.024232Z"
    }
   },
   "outputs": [],
   "source": [
    "column_mask = df.columns == 'sepal_width'\n",
    "print(column_mask)\n",
    "df.loc[:,column_mask].head()"
   ]
  },
  {
   "cell_type": "markdown",
   "metadata": {},
   "source": [
    "Additionally, you can subset the rows and columns at the same time"
   ]
  },
  {
   "cell_type": "code",
   "execution_count": null,
   "metadata": {
    "ExecuteTime": {
     "end_time": "2019-05-16T03:09:54.962761Z",
     "start_time": "2019-05-16T03:09:54.958457Z"
    },
    "scrolled": true
   },
   "outputs": [],
   "source": [
    "df.loc[:3,'sepal_width']"
   ]
  },
  {
   "cell_type": "markdown",
   "metadata": {},
   "source": [
    ":3 means starting from the first row, include in and up to and including the row that contains the index 3 (remember that the index is numbers 0:149).\n",
    "\n",
    "Finally, sometimes you might know the position of the column, but not the name. In this case you can use .iloc[]"
   ]
  },
  {
   "cell_type": "code",
   "execution_count": null,
   "metadata": {
    "ExecuteTime": {
     "end_time": "2019-05-16T03:06:12.542923Z",
     "start_time": "2019-05-16T03:06:12.538571Z"
    }
   },
   "outputs": [],
   "source": [
    "df.iloc[:,1].head()"
   ]
  },
  {
   "cell_type": "code",
   "execution_count": null,
   "metadata": {
    "ExecuteTime": {
     "end_time": "2019-05-16T03:12:23.265349Z",
     "start_time": "2019-05-16T03:12:23.260760Z"
    }
   },
   "outputs": [],
   "source": [
    "df.iloc[:3,1]"
   ]
  },
  {
   "cell_type": "markdown",
   "metadata": {},
   "source": [
    "Notice how this time `:3` behaves differently. Here `.iloc` is selecting the first until **BUT NOT INCLUDING** the 4th element (remember indexing starts from 0). "
   ]
  },
  {
   "cell_type": "markdown",
   "metadata": {},
   "source": [
    "#### Review Questions and Mini Exercises"
   ]
  },
  {
   "cell_type": "markdown",
   "metadata": {},
   "source": [
    "1. When would you use `np.genfromtxt()` vs `pd.read_csv()`"
   ]
  },
  {
   "cell_type": "markdown",
   "metadata": {},
   "source": [
    "**Answer Here**"
   ]
  },
  {
   "cell_type": "markdown",
   "metadata": {},
   "source": [
    "2. What are the core principles of tidy data and why does expression data not work well for it?"
   ]
  },
  {
   "cell_type": "markdown",
   "metadata": {},
   "source": [
    "**Answer Here**"
   ]
  },
  {
   "cell_type": "markdown",
   "metadata": {
    "ExecuteTime": {
     "end_time": "2019-05-21T18:21:54.524501Z",
     "start_time": "2019-05-21T18:21:54.520851Z"
    }
   },
   "source": [
    "3. Read in diogo_data.csv properly and save as diogo1_df\n",
    "    1. None of the data should have Nan's and if it should be read in as a dataframe it should have the correct rownames and column names"
   ]
  },
  {
   "cell_type": "code",
   "execution_count": null,
   "metadata": {
    "ExecuteTime": {
     "end_time": "2019-06-01T15:18:53.268566Z",
     "start_time": "2019-06-01T15:18:53.231949Z"
    }
   },
   "outputs": [],
   "source": [
    "##TODO"
   ]
  },
  {
   "cell_type": "markdown",
   "metadata": {
    "ExecuteTime": {
     "end_time": "2019-06-10T14:32:06.683816Z",
     "start_time": "2019-06-10T14:32:06.676021Z"
    }
   },
   "source": [
    "4. Read in centroids_1.csv properly and save as centroids_1_df"
   ]
  },
  {
   "cell_type": "code",
   "execution_count": null,
   "metadata": {
    "ExecuteTime": {
     "end_time": "2019-06-11T03:35:49.142137Z",
     "start_time": "2019-06-11T03:35:49.125867Z"
    }
   },
   "outputs": [],
   "source": [
    "#TODO"
   ]
  },
  {
   "cell_type": "markdown",
   "metadata": {},
   "source": [
    "### Processing data"
   ]
  },
  {
   "cell_type": "markdown",
   "metadata": {},
   "source": [
    "As I said earlier. Plotting in python works best when your data is tidy and also in a single dataframe. So here are a few functions and tips that are quite useful for this. "
   ]
  },
  {
   "cell_type": "markdown",
   "metadata": {
    "ExecuteTime": {
     "end_time": "2019-05-16T03:34:38.160324Z",
     "start_time": "2019-05-16T03:34:38.157687Z"
    }
   },
   "source": [
    "#### Groupings need to be listed as a column"
   ]
  },
  {
   "cell_type": "code",
   "execution_count": null,
   "metadata": {
    "ExecuteTime": {
     "end_time": "2019-05-16T03:34:41.555184Z",
     "start_time": "2019-05-16T03:34:41.543826Z"
    }
   },
   "outputs": [],
   "source": [
    "df.head()"
   ]
  },
  {
   "cell_type": "markdown",
   "metadata": {},
   "source": [
    "You last column is species, a categorical variable. This means that we can use it to separate the data out by species "
   ]
  },
  {
   "cell_type": "code",
   "execution_count": null,
   "metadata": {
    "ExecuteTime": {
     "end_time": "2019-05-16T14:37:35.426665Z",
     "start_time": "2019-05-16T14:37:35.260534Z"
    }
   },
   "outputs": [],
   "source": [
    "sns.barplot(data=df, x='species', y='petal_width')"
   ]
  },
  {
   "cell_type": "markdown",
   "metadata": {},
   "source": [
    "#### pd.melt()"
   ]
  },
  {
   "cell_type": "markdown",
   "metadata": {
    "ExecuteTime": {
     "end_time": "2019-05-16T14:38:10.444246Z",
     "start_time": "2019-05-16T14:38:10.417885Z"
    }
   },
   "source": [
    "But what if I wanted to compare the distributions of different numerical variables. Say see how sepal_length and sepal_width compare (not within an observation)? \n",
    "\n",
    "To do this you need to make the data \"tall\" using the function pd.melt()"
   ]
  },
  {
   "cell_type": "code",
   "execution_count": null,
   "metadata": {
    "ExecuteTime": {
     "end_time": "2019-05-16T14:41:43.426526Z",
     "start_time": "2019-05-16T14:41:43.415846Z"
    }
   },
   "outputs": [],
   "source": [
    "sepals_tall = pd.melt(df[['sepal_length', 'sepal_width']])\n",
    "sepals_tall.head()"
   ]
  },
  {
   "cell_type": "code",
   "execution_count": null,
   "metadata": {
    "ExecuteTime": {
     "end_time": "2019-05-16T14:42:01.616947Z",
     "start_time": "2019-05-16T14:42:01.471734Z"
    }
   },
   "outputs": [],
   "source": [
    "sns.barplot(data=sepals_tall,x='variable',y='value')"
   ]
  },
  {
   "cell_type": "markdown",
   "metadata": {},
   "source": [
    "Now, this is great, but you may notice that we have lost the information about which species each observation came from, when making the data tall, you can add another argument to melt that will bring with each value the species"
   ]
  },
  {
   "cell_type": "code",
   "execution_count": null,
   "metadata": {
    "ExecuteTime": {
     "end_time": "2019-05-16T14:47:39.033798Z",
     "start_time": "2019-05-16T14:47:39.020984Z"
    }
   },
   "outputs": [],
   "source": [
    "sepals_tall_species = pd.melt(\n",
    "    df[['sepal_length', 'sepal_width', 'species']], id_vars='species')\n",
    "sepals_tall_species.head()"
   ]
  },
  {
   "cell_type": "code",
   "execution_count": null,
   "metadata": {
    "ExecuteTime": {
     "end_time": "2019-05-16T14:49:22.412916Z",
     "start_time": "2019-05-16T14:49:22.176453Z"
    }
   },
   "outputs": [],
   "source": [
    "sns.barplot(data=sepals_tall_species, x='variable', y='value', hue='species')"
   ]
  },
  {
   "cell_type": "markdown",
   "metadata": {},
   "source": [
    "#### pd.concat()"
   ]
  },
  {
   "cell_type": "markdown",
   "metadata": {},
   "source": [
    "It is extremely common for data to come in separate files. But we need to join the files together. To use pd.concat()"
   ]
  },
  {
   "cell_type": "code",
   "execution_count": null,
   "metadata": {
    "ExecuteTime": {
     "end_time": "2019-05-17T03:26:26.360795Z",
     "start_time": "2019-05-17T03:26:26.349511Z"
    }
   },
   "outputs": [],
   "source": [
    "centroids_numerical = pd.read_csv(\n",
    "    '../data/centroids_numerical.csv', index_col=0)\n",
    "centroids_numerical.head()"
   ]
  },
  {
   "cell_type": "code",
   "execution_count": null,
   "metadata": {
    "ExecuteTime": {
     "end_time": "2019-05-17T03:26:26.829683Z",
     "start_time": "2019-05-17T03:26:26.820101Z"
    }
   },
   "outputs": [],
   "source": [
    "centroids_metadata = pd.read_csv('../data/centroids_metadata.csv', index_col=0)\n",
    "centroids_metadata.head()"
   ]
  },
  {
   "cell_type": "code",
   "execution_count": null,
   "metadata": {
    "ExecuteTime": {
     "end_time": "2019-05-21T18:20:50.751131Z",
     "start_time": "2019-05-21T18:20:50.740830Z"
    }
   },
   "outputs": [],
   "source": [
    "centroids = pd.concat([centroids_numerical, centroids_metadata],axis=1)\n",
    "centroids.head()\n",
    "#The axis=1 tells the function to stick the columns next to eachother"
   ]
  },
  {
   "cell_type": "code",
   "execution_count": null,
   "metadata": {
    "ExecuteTime": {
     "end_time": "2019-05-21T18:19:33.949396Z",
     "start_time": "2019-05-21T18:19:33.942382Z"
    }
   },
   "outputs": [],
   "source": [
    "split_1 = centroids_metadata.iloc[:50]\n",
    "split_2 = centroids_metadata.iloc[50:]\n",
    "centroids_metadata.head()"
   ]
  },
  {
   "cell_type": "code",
   "execution_count": null,
   "metadata": {
    "ExecuteTime": {
     "end_time": "2019-05-21T18:19:34.941115Z",
     "start_time": "2019-05-21T18:19:34.934200Z"
    }
   },
   "outputs": [],
   "source": [
    "pd.concat([split_2,split_1]).head()"
   ]
  },
  {
   "cell_type": "markdown",
   "metadata": {},
   "source": [
    "This time without the axis=1 it sticks the two dataframes on top of each other"
   ]
  },
  {
   "cell_type": "markdown",
   "metadata": {},
   "source": [
    "#### Computations on existing columns to create new ones"
   ]
  },
  {
   "cell_type": "code",
   "execution_count": null,
   "metadata": {
    "ExecuteTime": {
     "end_time": "2019-05-21T18:20:53.728018Z",
     "start_time": "2019-05-21T18:20:53.718509Z"
    }
   },
   "outputs": [],
   "source": [
    "centroids.head()"
   ]
  },
  {
   "cell_type": "code",
   "execution_count": null,
   "metadata": {
    "ExecuteTime": {
     "end_time": "2019-05-21T18:20:54.025281Z",
     "start_time": "2019-05-21T18:20:54.021081Z"
    }
   },
   "outputs": [],
   "source": [
    "#Sometimes you need to add columns based on other columns\n",
    "centroids['Ogt_zscore'] = stats.zscore(centroids['Ogt'])\n",
    "centroids['Cacna1a_zscore'] = stats.zscore(centroids['Cacna1a'])"
   ]
  },
  {
   "cell_type": "code",
   "execution_count": null,
   "metadata": {
    "ExecuteTime": {
     "end_time": "2019-05-21T18:20:54.456434Z",
     "start_time": "2019-05-21T18:20:54.445784Z"
    }
   },
   "outputs": [],
   "source": [
    "centroids.head()"
   ]
  },
  {
   "cell_type": "markdown",
   "metadata": {},
   "source": [
    "#### Review questions and mini exercises"
   ]
  },
  {
   "cell_type": "markdown",
   "metadata": {},
   "source": [
    "1. What is the difference between using and not using axis=1 with pd.conca()?\n"
   ]
  },
  {
   "cell_type": "markdown",
   "metadata": {},
   "source": [
    "**Answer Here**"
   ]
  },
  {
   "cell_type": "markdown",
   "metadata": {},
   "source": [
    "2. Load in example_expression.csv and example_metadata.csv. Then concat them together into a single dataframe named example_df_concat"
   ]
  },
  {
   "cell_type": "code",
   "execution_count": 1,
   "metadata": {
    "ExecuteTime": {
     "end_time": "2019-06-12T21:21:47.030697Z",
     "start_time": "2019-06-12T21:21:47.028379Z"
    }
   },
   "outputs": [],
   "source": [
    "##TODO"
   ]
  },
  {
   "cell_type": "markdown",
   "metadata": {},
   "source": [
    "### Principles of Plotting in Python"
   ]
  },
  {
   "cell_type": "markdown",
   "metadata": {},
   "source": [
    "#### The anatomy of a plot/figure"
   ]
  },
  {
   "cell_type": "markdown",
   "metadata": {},
   "source": [
    "<img src=\"https://files.realpython.com/media/fig_map.bc8c7cabd823.png\" />"
   ]
  },
  {
   "cell_type": "markdown",
   "metadata": {},
   "source": [
    "<img src=\"https://matplotlib.org/_images/sphx_glr_anatomy_001.png\" />"
   ]
  },
  {
   "cell_type": "markdown",
   "metadata": {},
   "source": [
    "#### Python plot gallery\n",
    "\n",
    "Website with lots of different plot types and code, super useful to get ideas and code for plotting\n",
    "\n",
    "https://python-graph-gallery.com"
   ]
  },
  {
   "cell_type": "markdown",
   "metadata": {},
   "source": [
    "#### Initializing a figure"
   ]
  },
  {
   "cell_type": "code",
   "execution_count": null,
   "metadata": {
    "ExecuteTime": {
     "end_time": "2019-05-21T18:38:21.205636Z",
     "start_time": "2019-05-21T18:38:21.103999Z"
    }
   },
   "outputs": [],
   "source": [
    "#This creates a new figure adn axes\n",
    "fig, ax = plt.subplots()\n",
    "\n",
    "#In general everything you do plotting will be in between these two lines of code\n",
    "\n",
    "#This shows it\n",
    "plt.show()\n",
    "\n",
    "#This saves it, you need to comment out plt.show() and uncomment this, you can't do both\n",
    "#However when you use plt.savefig() the figure will still appear\n",
    "#plt.savefig('../figures/emptyfig.pdf') #If you specify a file format it will interpet that"
   ]
  },
  {
   "cell_type": "markdown",
   "metadata": {},
   "source": [
    "### Python plot gallery\n",
    "\n",
    "Website with lots of different plot types and code\n",
    "\n",
    "https://python-graph-gallery.com"
   ]
  },
  {
   "cell_type": "code",
   "execution_count": null,
   "metadata": {
    "ExecuteTime": {
     "end_time": "2019-05-21T18:46:51.551461Z",
     "start_time": "2019-05-21T18:46:51.289336Z"
    }
   },
   "outputs": [],
   "source": [
    "fig, ax = plt.subplots(ncols=2, nrows=2)\n",
    "plt.show()"
   ]
  },
  {
   "cell_type": "code",
   "execution_count": null,
   "metadata": {
    "ExecuteTime": {
     "end_time": "2019-05-21T18:46:54.061767Z",
     "start_time": "2019-05-21T18:46:54.059250Z"
    }
   },
   "outputs": [],
   "source": [
    "print(ax)"
   ]
  },
  {
   "cell_type": "markdown",
   "metadata": {},
   "source": [
    "When you create multiple plots using subplots it is creating a list, so if you want to plot something in one of the axes within the figure you can just index it"
   ]
  },
  {
   "cell_type": "code",
   "execution_count": null,
   "metadata": {
    "ExecuteTime": {
     "end_time": "2019-05-21T18:54:46.714104Z",
     "start_time": "2019-05-21T18:54:46.711271Z"
    }
   },
   "outputs": [],
   "source": [
    "fake_data_1 = np.arange(10)\n",
    "fake_data_2 = np.random.rand(10)\n",
    "fake_data_3 = np.random.beta(1,.5,size=10)"
   ]
  },
  {
   "cell_type": "code",
   "execution_count": null,
   "metadata": {
    "ExecuteTime": {
     "end_time": "2019-05-21T18:56:28.371743Z",
     "start_time": "2019-05-21T18:56:28.106209Z"
    }
   },
   "outputs": [],
   "source": [
    "fig, ax = plt.subplots(ncols=2, nrows=2)\n",
    "\n",
    "#Top Left\n",
    "ax[0, 0].plot(fake_data_1, fake_data_2)\n",
    "\n",
    "#Top right\n",
    "sns.distplot(fake_data_3, ax=ax[1, 0])\n",
    "\n",
    "#Bototm left\n",
    "df.plot.scatter(x='sepal_length', y='sepal_width', ax=ax[0, 1])\n",
    "\n",
    "#Bottom rigth\n",
    "ax[1,1].axis('off')\n",
    "\n",
    "#Uncomment to make pretty (aka properly organize whitespace)\n",
    "#plt.tight_layout()\n",
    "plt.show()"
   ]
  },
  {
   "cell_type": "markdown",
   "metadata": {},
   "source": [
    "#### General Aesthetics "
   ]
  },
  {
   "cell_type": "markdown",
   "metadata": {
    "ExecuteTime": {
     "end_time": "2019-06-09T18:43:09.982217Z",
     "start_time": "2019-06-09T18:43:09.954308Z"
    }
   },
   "source": [
    "Seaborn is what is known as a **wrapper** of matplotlib. That means that seaborn merely calls functions in matplotlib to produce the figures. It does this because matplotlib is so vast and can be quite cumbersome. Stuff that take a single line of code using seaborn can take many line in base matplotib. \n",
    "\n",
    "One way this can be useful is that seaborn has some set styles that change many aspects of the plots, you can change this for your entire notebook or for just one block of code depending on how you set it"
   ]
  },
  {
   "cell_type": "code",
   "execution_count": null,
   "metadata": {
    "ExecuteTime": {
     "end_time": "2019-06-09T18:51:52.848532Z",
     "start_time": "2019-06-09T18:51:52.844474Z"
    }
   },
   "outputs": [],
   "source": [
    "def sinplot(flip=1):\n",
    "    x = np.linspace(0, 14, 100)\n",
    "    for i in range(1, 7):\n",
    "        plt.plot(x, np.sin(x + i * .5) * (7 - i) * flip)\n"
   ]
  },
  {
   "cell_type": "markdown",
   "metadata": {},
   "source": [
    "The figure on the left has the style set to whitegrid because it is inside the with statement, while the one on the right is the default style of darkgrid"
   ]
  },
  {
   "cell_type": "code",
   "execution_count": null,
   "metadata": {
    "ExecuteTime": {
     "end_time": "2019-06-09T18:53:01.675676Z",
     "start_time": "2019-06-09T18:53:01.445278Z"
    },
    "code_folding": []
   },
   "outputs": [],
   "source": [
    "f = plt.figure()\n",
    "with sns.axes_style(\"whitegrid\"):\n",
    "    ax = f.add_subplot(1, 2, 1)\n",
    "    sinplot()\n",
    "ax = f.add_subplot(1, 2, 2)\n",
    "sinplot(-1)"
   ]
  },
  {
   "cell_type": "markdown",
   "metadata": {},
   "source": [
    "It is generally better to stick to one style for all your plots in an analysis, so I usually just set the style globally (usually at the top of my notebook right after I import seaborn)"
   ]
  },
  {
   "cell_type": "code",
   "execution_count": null,
   "metadata": {
    "ExecuteTime": {
     "end_time": "2019-06-09T18:56:56.969171Z",
     "start_time": "2019-06-09T18:56:56.830531Z"
    }
   },
   "outputs": [],
   "source": [
    "sns.set(style='white')\n",
    "sinplot()"
   ]
  },
  {
   "cell_type": "markdown",
   "metadata": {},
   "source": [
    "I also don't like the box all the way around my plot so I also do what is called despining it"
   ]
  },
  {
   "cell_type": "code",
   "execution_count": null,
   "metadata": {
    "ExecuteTime": {
     "end_time": "2019-06-09T18:57:24.351226Z",
     "start_time": "2019-06-09T18:57:24.211185Z"
    }
   },
   "outputs": [],
   "source": [
    "sinplot()\n",
    "sns.despine()"
   ]
  },
  {
   "cell_type": "markdown",
   "metadata": {
    "ExecuteTime": {
     "end_time": "2019-06-09T18:57:41.744834Z",
     "start_time": "2019-06-09T18:57:41.740795Z"
    }
   },
   "source": [
    "If you want to do that default for all plots just add this to the top of your notebook as well \n",
    "\n",
    "`plt.rc(\"axes.spines\", top=False, right=False)`\n",
    "\n",
    "One other aesthetic change I make is the font size/scaling. One of the most common issues I see in plots in presentations is that presenters do not change the font sizes of the text in the plots from the default so it is difficult to read them. Even when just sharing plots with your PIs and labmates they will appreciate if you include plots with legible axes. While there is no silver bullet for this I do put this line of code at the top of my notebooks to at least make my initial plots close to usable\n",
    "\n",
    "`sns.set(font_scale=1.25)`\n",
    "\n",
    "Ultimately this is what the top of my imports cell looks like with regards to plotting\n"
   ]
  },
  {
   "cell_type": "code",
   "execution_count": null,
   "metadata": {
    "ExecuteTime": {
     "end_time": "2019-06-09T19:08:58.939318Z",
     "start_time": "2019-06-09T19:08:58.933229Z"
    }
   },
   "outputs": [],
   "source": [
    "import matplotlib.pyplot as plt\n",
    "import seaborn as sns\n",
    "\n",
    "plt.rc(\"axes.spines\", top=False, right=False)\n",
    "sns.set(style='white', font_scale=1.25)\n",
    "\n",
    "%matplotlib inline"
   ]
  },
  {
   "cell_type": "markdown",
   "metadata": {},
   "source": [
    "#### Color"
   ]
  },
  {
   "cell_type": "markdown",
   "metadata": {},
   "source": [
    "Color is one of the easiest things in plotting to mess up. \n",
    "\n",
    "One of the first things you need to consider is how many colors you need. The more colors you have the harder the plot will be to interpret because colors will be closer together on the color wheel and less distinguishable. \n",
    "\n",
    "For example figure C in this plot has a lot of colors and makes it hard to distinguish them, but the authors of this paper numbered each color and put the numbers on the plot. Without the numbers it would be impossible to match the colors in the figure with the colors in the legend \n",
    "\n",
    "<img src=\"https://media.springernature.com/full/springer-static/image/art%3A10.1038%2Fs41586-019-0933-9/MediaObjects/41586_2019_933_Fig1_HTML.png?as=webp\" width=500 />\n",
    "\n",
    "> An aside: the plots above are from scRNAseq of developing mouse embryos"
   ]
  },
  {
   "cell_type": "markdown",
   "metadata": {},
   "source": [
    "\n",
    "Another important thing to consider is being **colorblind friendly**. After creating plots you can always check using a [website](https://www.color-blindness.com/coblis-color-blindness-simulator/) for different colorblindnesses. But you can also just change the settings on seaborn using `sns.set_pallete('colorblind')`"
   ]
  },
  {
   "cell_type": "markdown",
   "metadata": {},
   "source": [
    "The last important thing to consider is that there are different types of colormaps/palettes for different types of data.\n",
    "\n",
    "The first type is **categorical or qualitative**. These colors are unordered and good for when you have groups"
   ]
  },
  {
   "cell_type": "code",
   "execution_count": null,
   "metadata": {
    "ExecuteTime": {
     "end_time": "2019-06-10T13:13:34.067919Z",
     "start_time": "2019-06-10T13:13:34.001392Z"
    }
   },
   "outputs": [],
   "source": [
    "sns.palplot(sns.hls_palette())"
   ]
  },
  {
   "cell_type": "code",
   "execution_count": null,
   "metadata": {
    "ExecuteTime": {
     "end_time": "2019-06-10T13:11:42.847824Z",
     "start_time": "2019-06-10T13:11:42.516263Z"
    }
   },
   "outputs": [],
   "source": [
    "fig, ax =plt.subplots(figsize=(10,6))\n",
    "sns.scatterplot(data=centroids,x='Cacna1a',y='Ogt',hue='subclass',ax=ax)\n",
    "ax.legend(ncol=4)\n",
    "sns.despine()"
   ]
  },
  {
   "cell_type": "markdown",
   "metadata": {},
   "source": [
    "The next type is **sequential or monotonic** These are used for numerical changes or gradients"
   ]
  },
  {
   "cell_type": "code",
   "execution_count": null,
   "metadata": {
    "ExecuteTime": {
     "end_time": "2019-06-10T13:16:28.428490Z",
     "start_time": "2019-06-10T13:16:28.375537Z"
    }
   },
   "outputs": [],
   "source": [
    "sns.palplot(sns.color_palette(\"Blues\"))"
   ]
  },
  {
   "cell_type": "code",
   "execution_count": null,
   "metadata": {
    "ExecuteTime": {
     "end_time": "2019-06-10T13:17:51.490967Z",
     "start_time": "2019-06-10T13:17:51.287712Z"
    }
   },
   "outputs": [],
   "source": [
    "fig, ax = plt.subplots(figsize=(10, 6))\n",
    "centroids.plot.scatter(x='Cacna1a',y='Ogt',c='MGE_score',cmap='Blues',ax=ax)\n",
    "sns.despine()\n",
    "plt.show()"
   ]
  },
  {
   "cell_type": "markdown",
   "metadata": {},
   "source": [
    "The final type is **divergent**. This is useful when you are plotting a numerical value that can distinguish two categories"
   ]
  },
  {
   "cell_type": "code",
   "execution_count": null,
   "metadata": {
    "ExecuteTime": {
     "end_time": "2019-06-10T13:22:52.725079Z",
     "start_time": "2019-06-10T13:22:52.671225Z"
    }
   },
   "outputs": [],
   "source": [
    "sns.palplot(sns.color_palette(\"coolwarm\"))"
   ]
  },
  {
   "cell_type": "code",
   "execution_count": null,
   "metadata": {
    "ExecuteTime": {
     "end_time": "2019-06-10T13:22:14.632716Z",
     "start_time": "2019-06-10T13:22:14.391719Z"
    }
   },
   "outputs": [],
   "source": [
    "centroids['interneuron_score'] = centroids['MGE_score'] - centroids['CGE_score']\n",
    "\n",
    "fig, ax = plt.subplots(figsize=(10, 6))\n",
    "centroids.plot.scatter(x='Cacna1a',y='Ogt',c='interneuron_score',cmap='coolwarm',ax=ax)\n",
    "sns.despine()\n",
    "plt.show()"
   ]
  },
  {
   "cell_type": "markdown",
   "metadata": {},
   "source": [
    "Like with the general plot aesthetics, it is highly encouraged that you be consistent with your palette choices."
   ]
  },
  {
   "cell_type": "markdown",
   "metadata": {},
   "source": [
    "#### Everything needs to be in columns\n",
    "\n",
    "Every aspect of your plot needs to be in a column. \n",
    "\n",
    "Yes, this is the entire section, but it is such an important concept that it deserves a section of its own"
   ]
  },
  {
   "cell_type": "markdown",
   "metadata": {},
   "source": [
    "#### Univariate/Categorical Plotting"
   ]
  },
  {
   "cell_type": "markdown",
   "metadata": {},
   "source": [
    "There are many ways to plot the same categorical data. When selecting which method there are a few important questions you should be asking yourself\n",
    "\n",
    "* Does the figure faithfully depict the data?\n",
    "* Does the figure clearly display the result?\n",
    "* Is the figure simple and easy to understand?\n",
    "\n",
    "All 3 of the plots below display the same data (Average expression of Ogt in each cluster of cells). But some display if better than others"
   ]
  },
  {
   "cell_type": "code",
   "execution_count": null,
   "metadata": {
    "ExecuteTime": {
     "end_time": "2019-06-10T14:07:19.570235Z",
     "start_time": "2019-06-10T14:07:18.746084Z"
    }
   },
   "outputs": [],
   "source": [
    "fig ,ax = plt.subplots(figsize=(15,12), ncols=2,nrows=2)\n",
    "sns.violinplot(data=centroids,x='broad_class',y='Ogt',ax=ax[0,0])\n",
    "sns.swarmplot(data=centroids,x='broad_class',y='Ogt',ax=ax[0,1])\n",
    "sns.boxplot(data=centroids,x='broad_class',y='Ogt',ax=ax[1,0])\n",
    "sns.barplot(data=centroids,x='broad_class',y='Ogt',ax=ax[1,1])\n",
    "\n",
    "sns.despine()\n",
    "plt.show()"
   ]
  },
  {
   "cell_type": "markdown",
   "metadata": {},
   "source": [
    "In general, publishers will not even you publish a barplot like the bottom right one anymore. This clearly is not showing the data faithfully. \n",
    "\n",
    "\n",
    "\n",
    "<img src=\"../figures/xkcd_plot.png\" width=700/>\n",
    "\n",
    "\n",
    "\n",
    "The violin plot is also not great for this data because the method used to build it makes it seem like there are negative numbers in the data, when expression data is between (0,$\\infty$). However, you can adjust it so it doesn't display anything outside the true range of the data."
   ]
  },
  {
   "cell_type": "markdown",
   "metadata": {},
   "source": [
    "You can also stack multiple versions on top of each other to include more information."
   ]
  },
  {
   "cell_type": "code",
   "execution_count": null,
   "metadata": {
    "ExecuteTime": {
     "end_time": "2019-06-10T14:14:07.063569Z",
     "start_time": "2019-06-10T14:14:06.812966Z"
    }
   },
   "outputs": [],
   "source": [
    "fig, ax = plt.subplots(figsize=(10,6))\n",
    "sns.swarmplot(data=centroids,x='broad_class',y='Ogt',ax=ax, color='k')\n",
    "sns.violinplot(data=centroids,x='broad_class',y='Ogt',ax=ax, saturation=.75, cut=0, inner=None)\n",
    "sns.despine()\n",
    "plt.show()"
   ]
  },
  {
   "cell_type": "code",
   "execution_count": null,
   "metadata": {
    "ExecuteTime": {
     "end_time": "2019-06-10T15:54:59.833475Z",
     "start_time": "2019-06-10T15:54:59.826915Z"
    }
   },
   "outputs": [],
   "source": [
    "df_melt = pd.melt(df,id_vars='species')"
   ]
  },
  {
   "cell_type": "code",
   "execution_count": null,
   "metadata": {
    "ExecuteTime": {
     "end_time": "2019-06-10T15:56:12.815474Z",
     "start_time": "2019-06-10T15:56:12.805821Z"
    },
    "scrolled": true
   },
   "outputs": [],
   "source": [
    "df_melt.head()"
   ]
  },
  {
   "cell_type": "code",
   "execution_count": null,
   "metadata": {
    "ExecuteTime": {
     "end_time": "2019-06-10T15:56:32.765776Z",
     "start_time": "2019-06-10T15:56:32.329655Z"
    }
   },
   "outputs": [],
   "source": [
    "fig, ax = plt.subplots(figsize=(10,6))\n",
    "sns.swarmplot(data=df_melt, x='variable',y='value',hue='species',ax=ax)\n",
    "sns.despine()\n",
    "plt.show()"
   ]
  },
  {
   "cell_type": "markdown",
   "metadata": {},
   "source": [
    "Obviously this isn't useful with them stacked on top of each other "
   ]
  },
  {
   "cell_type": "code",
   "execution_count": null,
   "metadata": {
    "ExecuteTime": {
     "end_time": "2019-06-10T15:56:54.870660Z",
     "start_time": "2019-06-10T15:56:54.440650Z"
    }
   },
   "outputs": [],
   "source": [
    "fig, ax = plt.subplots(figsize=(10, 6))\n",
    "sns.swarmplot(\n",
    "    data=df_melt, x='variable', y='value', hue='species', ax=ax, dodge=True)\n",
    "sns.despine()\n",
    "plt.show()"
   ]
  },
  {
   "cell_type": "markdown",
   "metadata": {},
   "source": [
    "The last plot type is a histogram or KDE plot. These also display distributions"
   ]
  },
  {
   "cell_type": "code",
   "execution_count": null,
   "metadata": {
    "ExecuteTime": {
     "end_time": "2019-06-10T16:13:05.557637Z",
     "start_time": "2019-06-10T16:13:05.345270Z"
    }
   },
   "outputs": [],
   "source": [
    "fig ,ax =plt.subplots(figsize=(10,6))\n",
    "sns.distplot(df['sepal_length'],ax=ax, label='Sepal Length')\n",
    "sns.distplot(df['sepal_width'],ax=ax, label='Sepal Widgth')\n",
    "ax.legend()\n",
    "sns.despine()\n",
    "ax.set(xlabel='cm')\n",
    "plt.show()"
   ]
  },
  {
   "cell_type": "markdown",
   "metadata": {},
   "source": [
    "Notice how the y axis scale is not in counts, like a histogram, that is because the Density plot is normalized so it also normalizes the histogram.\n",
    "\n",
    "If you'd prefer to have counts in the y axis you can remove the KDE plot and set norm_hist to True"
   ]
  },
  {
   "cell_type": "code",
   "execution_count": null,
   "metadata": {
    "ExecuteTime": {
     "end_time": "2019-06-10T16:14:33.132732Z",
     "start_time": "2019-06-10T16:14:32.918547Z"
    }
   },
   "outputs": [],
   "source": [
    "fig, ax = plt.subplots(figsize=(10, 6))\n",
    "sns.distplot(\n",
    "    df['sepal_length'],\n",
    "    ax=ax,\n",
    "    label='Sepal Length',\n",
    "    kde=False,\n",
    "    norm_hist=False)\n",
    "sns.distplot(\n",
    "    df['sepal_width'], ax=ax, label='Sepal Widgth', kde=False, norm_hist=False)\n",
    "ax.legend()\n",
    "sns.despine()\n",
    "ax.set(xlabel='cm')\n",
    "plt.show()"
   ]
  },
  {
   "cell_type": "markdown",
   "metadata": {
    "ExecuteTime": {
     "end_time": "2019-06-10T18:01:10.458716Z",
     "start_time": "2019-06-10T18:01:10.454465Z"
    }
   },
   "source": [
    "In general, histograms will display the data more faithfully, but KDE plots can be useful when you want to display a lot of distributions on top of each other"
   ]
  },
  {
   "cell_type": "markdown",
   "metadata": {},
   "source": [
    "#### Multivariate plotting\n",
    "\n",
    "With multivariate plots you are comparing numerical data on two axis. There's also a lot of other things you can add to add information to the plots.\n"
   ]
  },
  {
   "cell_type": "code",
   "execution_count": null,
   "metadata": {
    "ExecuteTime": {
     "end_time": "2019-06-11T02:50:36.540263Z",
     "start_time": "2019-06-11T02:50:36.378980Z"
    }
   },
   "outputs": [],
   "source": [
    "fig ,ax = plt.subplots(figsize=(10,6))\n",
    "sns.scatterplot(data=centroids,x='Cacna1a',y='Ogt',ax=ax)\n",
    "sns.despine()"
   ]
  },
  {
   "cell_type": "code",
   "execution_count": null,
   "metadata": {
    "ExecuteTime": {
     "end_time": "2019-06-11T02:50:51.155949Z",
     "start_time": "2019-06-11T02:50:50.922875Z"
    }
   },
   "outputs": [],
   "source": [
    "fig ,ax = plt.subplots(figsize=(10,6))\n",
    "sns.scatterplot(data=centroids,x='Cacna1a',y='Ogt',ax=ax, hue='broad_class')\n",
    "sns.despine()"
   ]
  },
  {
   "cell_type": "code",
   "execution_count": null,
   "metadata": {
    "ExecuteTime": {
     "end_time": "2019-06-11T02:51:03.107663Z",
     "start_time": "2019-06-11T02:51:02.896962Z"
    }
   },
   "outputs": [],
   "source": [
    "fig ,ax = plt.subplots(figsize=(10,6))\n",
    "sns.scatterplot(data=centroids,x='Cacna1a',y='Ogt',ax=ax,style='broad_class')\n",
    "sns.despine()"
   ]
  },
  {
   "cell_type": "code",
   "execution_count": null,
   "metadata": {
    "ExecuteTime": {
     "end_time": "2019-06-11T02:52:07.691854Z",
     "start_time": "2019-06-11T02:52:07.242420Z"
    }
   },
   "outputs": [],
   "source": [
    "fig, ax = plt.subplots(figsize=(10, 12))\n",
    "sns.scatterplot(\n",
    "    data=centroids,\n",
    "    x='Cacna1a',\n",
    "    y='Ogt',\n",
    "    ax=ax,\n",
    "    hue='subclass',\n",
    "    style='broad_class',\n",
    "    s=40)\n",
    "ax.legend(ncol=4)\n",
    "sns.despine()"
   ]
  },
  {
   "cell_type": "code",
   "execution_count": null,
   "metadata": {
    "ExecuteTime": {
     "end_time": "2019-06-11T02:52:40.090587Z",
     "start_time": "2019-06-11T02:52:39.811660Z"
    },
    "scrolled": false
   },
   "outputs": [],
   "source": [
    "sns.lmplot(data=centroids,x='Cacna1a',y='Ogt')\n",
    "plt.show()"
   ]
  },
  {
   "cell_type": "code",
   "execution_count": null,
   "metadata": {
    "ExecuteTime": {
     "end_time": "2019-06-11T02:55:52.323089Z",
     "start_time": "2019-06-11T02:55:52.113863Z"
    }
   },
   "outputs": [],
   "source": [
    "sns.lmplot(\n",
    "    data=centroids,\n",
    "    x='Cacna1a',\n",
    "    y='Ogt',\n",
    "    hue='broad_class',\n",
    "    ci=None,\n",
    "    hue_order=['MGE', 'CGE'])\n",
    "plt.show()"
   ]
  },
  {
   "cell_type": "code",
   "execution_count": null,
   "metadata": {
    "ExecuteTime": {
     "end_time": "2019-06-11T02:56:34.952694Z",
     "start_time": "2019-06-11T02:56:34.611161Z"
    }
   },
   "outputs": [],
   "source": [
    "sns.jointplot(data=centroids,x='Cacna1a',y='Ogt')"
   ]
  },
  {
   "cell_type": "code",
   "execution_count": null,
   "metadata": {
    "ExecuteTime": {
     "end_time": "2019-06-11T02:56:48.068935Z",
     "start_time": "2019-06-11T02:56:47.082921Z"
    }
   },
   "outputs": [],
   "source": [
    "sns.jointplot(data=centroids,x='Cacna1a',y='Ogt',kind='kde')"
   ]
  },
  {
   "cell_type": "code",
   "execution_count": null,
   "metadata": {
    "ExecuteTime": {
     "end_time": "2019-06-11T13:31:33.708127Z",
     "start_time": "2019-06-11T13:31:33.243273Z"
    }
   },
   "outputs": [],
   "source": [
    "expression_demo = pd.read_csv('../data/example_expression.csv', index_col=0)\n",
    "corr_network = pd.DataFrame(\n",
    "    np.corrcoef(expression_demo.values.T),\n",
    "    index=expression_demo.columns,\n",
    "    columns=expression_demo.columns)\n",
    "corr_network.index.name = 'Genes'\n",
    "corr_network.columns.name = 'Genes'"
   ]
  },
  {
   "cell_type": "code",
   "execution_count": null,
   "metadata": {
    "ExecuteTime": {
     "end_time": "2019-06-11T13:31:36.083475Z",
     "start_time": "2019-06-11T13:31:35.553428Z"
    }
   },
   "outputs": [],
   "source": [
    "sns.heatmap(corr_network, cmap='coolwarm')\n",
    "plt.show()"
   ]
  },
  {
   "cell_type": "code",
   "execution_count": null,
   "metadata": {
    "ExecuteTime": {
     "end_time": "2019-06-11T13:31:37.778953Z",
     "start_time": "2019-06-11T13:31:36.741061Z"
    }
   },
   "outputs": [],
   "source": [
    "sns.clustermap(corr_network, cmap='coolwarm')\n",
    "plt.show()"
   ]
  },
  {
   "cell_type": "markdown",
   "metadata": {
    "ExecuteTime": {
     "end_time": "2019-05-13T18:44:20.429668Z",
     "start_time": "2019-05-13T18:44:20.427303Z"
    }
   },
   "source": [
    "## Exercise \n",
    "\n",
    "Goal of analysis: Calculate differential expression between MGE and CGE \n",
    "\n",
    "This test is similar to the T-test, however it is non-parametric. Instead of using the Gaussian or normal distribution as a null we make the data uniformly distributed and compare the ranks of the samples for each gene. This makes it more robust to outliers in the data. "
   ]
  },
  {
   "cell_type": "markdown",
   "metadata": {},
   "source": [
    "### Read in and preprocess the data\n",
    "\n",
    "1. Read in data\n",
    "2. Make some descriptive plots about the metadata (sample sizes and stuff)\n",
    "    1. Whatever you think is necessary to understand the data"
   ]
  },
  {
   "cell_type": "code",
   "execution_count": null,
   "metadata": {
    "ExecuteTime": {
     "end_time": "2019-06-10T21:50:09.014382Z",
     "start_time": "2019-06-10T21:50:08.613169Z"
    }
   },
   "outputs": [],
   "source": [
    "#TODO"
   ]
  },
  {
   "cell_type": "code",
   "execution_count": null,
   "metadata": {
    "ExecuteTime": {
     "end_time": "2019-06-10T21:50:25.391682Z",
     "start_time": "2019-06-10T21:50:25.380523Z"
    }
   },
   "outputs": [],
   "source": [
    "#TODO"
   ]
  },
  {
   "cell_type": "code",
   "execution_count": null,
   "metadata": {
    "ExecuteTime": {
     "end_time": "2019-06-10T21:52:58.121551Z",
     "start_time": "2019-06-10T21:52:58.004583Z"
    }
   },
   "outputs": [],
   "source": [
    "#TODO (Make an informative plot"
   ]
  },
  {
   "cell_type": "markdown",
   "metadata": {
    "ExecuteTime": {
     "end_time": "2019-05-13T19:57:50.957750Z",
     "start_time": "2019-05-13T19:57:50.953625Z"
    }
   },
   "source": [
    "### Calculating Mann Whitney U test statistic:\n",
    "$U_1 = R_1 - ((n_1 * (n_1 + 1)) /2)$\n",
    "\n",
    "$U_2 = R_2 - ((n_2 * (n_2 + 1)) /2)$\n",
    "\n",
    "$U = min(U_1, U_2)$\n",
    "\n",
    "$n_1$ = sample size of group 1\n",
    "\n",
    "$n_2$ = sample size of group 2\n",
    "\n",
    "R is sum of the rank (order) of the values "
   ]
  },
  {
   "cell_type": "code",
   "execution_count": 2,
   "metadata": {
    "ExecuteTime": {
     "end_time": "2019-06-12T21:22:53.069161Z",
     "start_time": "2019-06-12T21:22:53.066469Z"
    }
   },
   "outputs": [],
   "source": [
    "##TODO"
   ]
  },
  {
   "cell_type": "markdown",
   "metadata": {
    "ExecuteTime": {
     "end_time": "2019-05-13T19:54:59.339728Z",
     "start_time": "2019-05-13T19:54:59.336337Z"
    }
   },
   "source": [
    "### Calculating AUROC from MannWhitney U:\n",
    "\n",
    "<img src=\"https://glassboxmedicine.files.wordpress.com/2019/02/roc-curve-v2.png?w=576\" />\n",
    "\n",
    "The AUROC is a metric used to asses the quality of how well we can predict something. For this case we are measuring how well a gene predicts a specific cell type. "
   ]
  },
  {
   "cell_type": "markdown",
   "metadata": {},
   "source": [
    "$\\large{AUROC = 1 - \\frac{U}{n_1 * n_2}}$"
   ]
  },
  {
   "cell_type": "markdown",
   "metadata": {},
   "source": [
    "*Hint: AUROCs are values between 0 and 1, but mostly should be between .5 and 1, use a plot to check your results*"
   ]
  },
  {
   "cell_type": "code",
   "execution_count": null,
   "metadata": {
    "ExecuteTime": {
     "end_time": "2019-06-11T01:59:27.427709Z",
     "start_time": "2019-06-11T01:59:27.424187Z"
    }
   },
   "outputs": [],
   "source": [
    "##TODO"
   ]
  },
  {
   "cell_type": "code",
   "execution_count": null,
   "metadata": {
    "ExecuteTime": {
     "end_time": "2019-06-11T01:29:18.848541Z",
     "start_time": "2019-06-11T01:29:18.703974Z"
    }
   },
   "outputs": [],
   "source": [
    "##TODO"
   ]
  },
  {
   "cell_type": "markdown",
   "metadata": {},
   "source": [
    "### Calculate Log2FC\n",
    "\n",
    "You calculate log2FC by subtracting the average expressions from each other for each gene. Then taking the log2 of the difference. \n",
    "\n",
    "Notes:\n",
    "* You need to store the sign because log doesn't take negative numbers\n",
    "* You need to add a psuedocount (1) because log doesn't take 0"
   ]
  },
  {
   "cell_type": "code",
   "execution_count": null,
   "metadata": {
    "ExecuteTime": {
     "end_time": "2019-06-11T01:58:38.014691Z",
     "start_time": "2019-06-11T01:58:38.000420Z"
    }
   },
   "outputs": [],
   "source": [
    "##TODO"
   ]
  },
  {
   "cell_type": "markdown",
   "metadata": {},
   "source": [
    "### Create Volcano Plots\n",
    "\n",
    "Volcano plots are a common way of displaying results from differential expression. On the X axis you plot the Log2FC and on the Y axis you can plot the AUROC or log10(P value)."
   ]
  },
  {
   "cell_type": "code",
   "execution_count": null,
   "metadata": {
    "ExecuteTime": {
     "end_time": "2019-06-11T01:59:45.986539Z",
     "start_time": "2019-06-11T01:59:45.836142Z"
    }
   },
   "outputs": [],
   "source": [
    "##TODO"
   ]
  },
  {
   "cell_type": "markdown",
   "metadata": {},
   "source": [
    "### Calculating P values (Optional):\n",
    "\n",
    "$\\large{Z = \\frac{|U - \\frac{n_1 * n_2}{2}|}{\\sqrt{\\frac{n_1 * n_2 * (n_1 + n_2 + 1)}{12}}}}$\n"
   ]
  },
  {
   "cell_type": "code",
   "execution_count": null,
   "metadata": {
    "ExecuteTime": {
     "end_time": "2019-06-11T01:31:24.630253Z",
     "start_time": "2019-06-11T01:31:24.625434Z"
    }
   },
   "outputs": [],
   "source": [
    "##TODO"
   ]
  },
  {
   "cell_type": "markdown",
   "metadata": {},
   "source": [
    "Converting the U statistic is making the values normally distributed so you can then convert those to p values using a normal distribution. \n",
    "\n",
    "<img src=\"http://www.z-table.com/uploads/2/1/7/9/21795380/7807141_orig.png\" />"
   ]
  },
  {
   "cell_type": "code",
   "execution_count": null,
   "metadata": {
    "ExecuteTime": {
     "end_time": "2019-06-11T01:41:28.144069Z",
     "start_time": "2019-06-11T01:41:28.140644Z"
    }
   },
   "outputs": [],
   "source": [
    "##TODO"
   ]
  },
  {
   "cell_type": "code",
   "execution_count": null,
   "metadata": {
    "ExecuteTime": {
     "end_time": "2019-06-11T02:01:01.363540Z",
     "start_time": "2019-06-11T02:01:01.215487Z"
    }
   },
   "outputs": [],
   "source": [
    "##TODO"
   ]
  },
  {
   "cell_type": "markdown",
   "metadata": {},
   "source": [
    "### What if we could have predicted this result?\n",
    "\n",
    "A post-doc in the Gillis lab (Maggie Crow) analyzed hundreds of results of differential expression experiments and showed that certain genes are more often differentially expressed than others. \n",
    "\n",
    "<img src=\"https://www.pnas.org/content/pnas/116/13/6491/F2.medium.gif\" />\n",
    "\n",
    "As we learned before, AUROCs show how good a prediction is, so the list of genes Maggie came up with has an AUROC of .83, which is exceptionally good. \n",
    "\n",
    "This doesn't mean that just because the results are predictable that they aren't interesting, just that it isn't surprising that these results would look like results from other studies"
   ]
  },
  {
   "cell_type": "code",
   "execution_count": null,
   "metadata": {
    "ExecuteTime": {
     "end_time": "2019-06-11T02:02:25.226088Z",
     "start_time": "2019-06-11T02:02:25.222856Z"
    }
   },
   "outputs": [],
   "source": [
    "corrected = sm.stats.multipletests(p,method='fdr_bh')"
   ]
  },
  {
   "cell_type": "code",
   "execution_count": null,
   "metadata": {
    "ExecuteTime": {
     "end_time": "2019-06-11T02:03:04.655168Z",
     "start_time": "2019-06-11T02:03:04.650009Z"
    }
   },
   "outputs": [],
   "source": [
    "results['p_raw'] = p\n",
    "results['is_sig'] = corrected[0]\n",
    "results['p_adj'] = corrected[1]"
   ]
  },
  {
   "cell_type": "code",
   "execution_count": null,
   "metadata": {
    "ExecuteTime": {
     "end_time": "2019-06-11T02:05:33.539908Z",
     "start_time": "2019-06-11T02:05:33.513578Z"
    },
    "scrolled": true
   },
   "outputs": [],
   "source": [
    "de_prior = pd.read_csv('../data/mouse_de_prior.csv',index_col=0)"
   ]
  },
  {
   "cell_type": "code",
   "execution_count": null,
   "metadata": {
    "ExecuteTime": {
     "end_time": "2019-06-11T02:05:50.153832Z",
     "start_time": "2019-06-11T02:05:50.143437Z"
    }
   },
   "outputs": [],
   "source": [
    "de_prior.head()"
   ]
  },
  {
   "cell_type": "code",
   "execution_count": null,
   "metadata": {
    "ExecuteTime": {
     "end_time": "2019-06-11T02:09:44.449181Z",
     "start_time": "2019-06-11T02:09:44.245601Z"
    }
   },
   "outputs": [],
   "source": [
    "ax = sns.distplot(\n",
    "    de_prior.loc[results[results.is_sig].index, 'MF.rank'].dropna(),\n",
    "    kde=False,\n",
    "    norm_hist=True)\n",
    "sns.distplot(de_prior['MF.rank'], ax=ax, kde=False, norm_hist=True)\n",
    "sns.despine()\n",
    "plt.show()"
   ]
  },
  {
   "cell_type": "markdown",
   "metadata": {},
   "source": [
    "## Extra Resources"
   ]
  },
  {
   "cell_type": "markdown",
   "metadata": {},
   "source": [
    "### SQL and databases"
   ]
  },
  {
   "cell_type": "markdown",
   "metadata": {},
   "source": [
    "Large tabular data can often use special software for accessing and manipulating data. A common framework for this is known as SQL. Tools like [biomart](http://useast.ensembl.org/biomart/martview/3d270413fa0c7c3dca475d573cbf4897) can be accessed through a web interface or using SQL. SQL can be useful if you need to make repeated or many queries of a bioinformatics database (as an aside R has a package biomarRT for querrying biomart). Using SQL will feel a little similar to pandas.\n",
    "\n",
    "[SQL Wiki](https://en.wikipedia.org/wiki/SQL)\n",
    "\n",
    "[Biomart Public SQL server info](https://useast.ensembl.org/info/data/mysql.html)"
   ]
  },
  {
   "cell_type": "markdown",
   "metadata": {},
   "source": [
    "### Some weird \"common file formats\"\n",
    "\n",
    "Some bioinformatics software require specific file formats that are subclasses of other file formats\n",
    "\n",
    "Here are some examples:\n",
    "\n",
    "[GCT: A Special Flat Files for Gene Expression](http://software.broadinstitute.org/cancer/software/gsea/wiki/index.php/Data_formats)\n",
    "\n",
    "[Loom: A Special HDf5 Files for Single Cell Data](http://linnarssonlab.org/loompy/index.html)\n",
    "\n",
    "Both of these filetypes utilize flat/hdf5 file formats but format them in specific ways to make it easy for the software that they were created for to parse them"
   ]
  },
  {
   "cell_type": "markdown",
   "metadata": {},
   "source": [
    "### Edward Tufte"
   ]
  },
  {
   "cell_type": "markdown",
   "metadata": {},
   "source": [
    "Edward Tufte is an extremely popular resource for plotting guidelines. Some of his points may seem absurd/a pain to implement in code. But his general philosophy for plotting quantitative data is to make the plots as minimalist and clear as possible. He has multiple books and offers paid in person courses. \n",
    "\n",
    "https://www.amazon.com/Visual-Display-Quantitative-Information/dp/1930824130\n",
    "\n",
    "\n",
    "https://www.edwardtufte.com/tufte/"
   ]
  },
  {
   "cell_type": "markdown",
   "metadata": {},
   "source": [
    "### Advanced python libraries"
   ]
  },
  {
   "cell_type": "markdown",
   "metadata": {},
   "source": [
    "#### Bokeh"
   ]
  },
  {
   "cell_type": "markdown",
   "metadata": {},
   "source": [
    "Bokeh is an interactive plotting library. It is especially useful for making websites. It uses a slightly different grammar than matplotlib. \n",
    "\n",
    "https://bokeh.pydata.org/en/latest/docs/user_guide/quickstart.html#userguide-quickstart\n",
    "\n"
   ]
  },
  {
   "cell_type": "code",
   "execution_count": null,
   "metadata": {
    "ExecuteTime": {
     "end_time": "2019-06-12T14:28:51.500569Z",
     "start_time": "2019-06-12T14:28:51.387414Z"
    }
   },
   "outputs": [],
   "source": [
    "# Might need to do\n",
    "# $ conda install -c bokeh bokeh or\n",
    "# $ pip install bokeh in the terminal for this cell to work\n",
    "\n",
    "from bokeh.io import output_notebook\n",
    "from bokeh.plotting import figure, output_file, show\n",
    "\n",
    "# prepare some data\n",
    "x = [0.1, 0.5, 1.0, 1.5, 2.0, 2.5, 3.0]\n",
    "y0 = [i**2 for i in x]\n",
    "y1 = [10**i for i in x]\n",
    "y2 = [10**(i**2) for i in x]\n",
    "\n",
    "# output to static HTML file\n",
    "output_notebook()\n",
    "# create a new plot\n",
    "p = figure(\n",
    "    tools=\"pan,box_zoom,reset,save\",\n",
    "    y_axis_type=\"log\",\n",
    "    y_range=[0.001, 10**11],\n",
    "    title=\"log axis example\",\n",
    "    x_axis_label='sections',\n",
    "    y_axis_label='particles')\n",
    "\n",
    "# add some renderers\n",
    "p.line(x, x, legend=\"y=x\")\n",
    "p.circle(x, x, legend=\"y=x\", fill_color=\"white\", size=8)\n",
    "p.line(x, y0, legend=\"y=x^2\", line_width=3)\n",
    "p.line(x, y1, legend=\"y=10^x\", line_color=\"red\")\n",
    "p.circle(x, y1, legend=\"y=10^x\", fill_color=\"red\", line_color=\"red\", size=6)\n",
    "p.line(x, y2, legend=\"y=10^x^2\", line_color=\"orange\", line_dash=\"4 4\")\n",
    "output_file\n",
    "# show the results\n",
    "show(p)"
   ]
  },
  {
   "cell_type": "markdown",
   "metadata": {},
   "source": [
    "These plots are not great for publication necessarily because a lot of the features for it are centered around being interactive. One nice thing about it is that it is free\n"
   ]
  },
  {
   "cell_type": "markdown",
   "metadata": {
    "ExecuteTime": {
     "end_time": "2019-05-13T19:24:25.349426Z",
     "start_time": "2019-05-13T19:24:25.346377Z"
    }
   },
   "source": [
    "#### Plotly"
   ]
  },
  {
   "cell_type": "markdown",
   "metadata": {},
   "source": [
    "Plotly is a freemium software package. It is very similar to bokeh, but actually runs on the plotly company server. You need to make an account and need to be connected to the internet to use. Additionally, you are limited in what you can do and the amount of plots you can make with a free account.\n",
    "\n",
    "https://plot.ly/python/"
   ]
  },
  {
   "cell_type": "markdown",
   "metadata": {},
   "source": [
    "### Non Python Plotting Resources"
   ]
  },
  {
   "cell_type": "markdown",
   "metadata": {
    "ExecuteTime": {
     "end_time": "2019-05-13T19:37:56.845801Z",
     "start_time": "2019-05-13T19:37:56.842731Z"
    }
   },
   "source": [
    "Interactive:\n",
    "    \n",
    "1. [Tableau](https://www.tableau.com)\n",
    "    \n",
    "2. [Graph Pad](https://www.graphpad.com)\n",
    "\n",
    "3. Excel (Don't use, very limited options)\n",
    "    \n",
    "    \n",
    "Programming:\n",
    "    \n",
    "1. R \n",
    "    1. base graphics\n",
    "    2. [ggplot2](https://ggplot2.tidyverse.org/reference/ggplot.html)\n",
    "2. Javascript\n",
    "    1. [D3](https://d3js.org) Very powerful and customizable "
   ]
  },
  {
   "cell_type": "code",
   "execution_count": null,
   "metadata": {},
   "outputs": [],
   "source": []
  }
 ],
 "metadata": {
  "hide_input": false,
  "kernelspec": {
   "display_name": "Python 3",
   "language": "python",
   "name": "python3"
  },
  "language_info": {
   "codemirror_mode": {
    "name": "ipython",
    "version": 3
   },
   "file_extension": ".py",
   "mimetype": "text/x-python",
   "name": "python",
   "nbconvert_exporter": "python",
   "pygments_lexer": "ipython3",
   "version": "3.7.2"
  },
  "latex_envs": {
   "LaTeX_envs_menu_present": true,
   "autoclose": false,
   "autocomplete": true,
   "bibliofile": "biblio.bib",
   "cite_by": "apalike",
   "current_citInitial": 1,
   "eqLabelWithNumbers": true,
   "eqNumInitial": 1,
   "hotkeys": {
    "equation": "Ctrl-E",
    "itemize": "Ctrl-I"
   },
   "labels_anchors": false,
   "latex_user_defs": false,
   "report_style_numbering": false,
   "user_envs_cfg": false
  },
  "notify_time": "5",
  "toc": {
   "base_numbering": 1,
   "nav_menu": {},
   "number_sections": true,
   "sideBar": true,
   "skip_h1_title": true,
   "title_cell": "Table of Contents",
   "title_sidebar": "Contents",
   "toc_cell": true,
   "toc_position": {
    "height": "calc(100% - 180px)",
    "left": "10px",
    "top": "150px",
    "width": "286.594px"
   },
   "toc_section_display": true,
   "toc_window_display": true
  }
 },
 "nbformat": 4,
 "nbformat_minor": 2
}
